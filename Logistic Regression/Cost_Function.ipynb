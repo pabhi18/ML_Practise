{
 "cells": [
  {
   "cell_type": "markdown",
   "id": "84764f1c",
   "metadata": {},
   "source": [
    "## Importing Libraries"
   ]
  },
  {
   "cell_type": "code",
   "execution_count": 1,
   "id": "96a78823",
   "metadata": {},
   "outputs": [],
   "source": [
    "import numpy as np\n",
    "import matplotlib.pyplot as plt"
   ]
  },
  {
   "cell_type": "markdown",
   "id": "ff6771d7",
   "metadata": {},
   "source": [
    "## Importing Dataset"
   ]
  },
  {
   "cell_type": "code",
   "execution_count": 2,
   "id": "f58f69ad",
   "metadata": {},
   "outputs": [],
   "source": [
    "x_train = np.array([0., 1, 2, 3, 4, 5])\n",
    "y_train = np.array([0,  0, 0, 1, 1, 1])"
   ]
  },
  {
   "cell_type": "markdown",
   "id": "f27804e9",
   "metadata": {},
   "source": [
    "## Function to Calculate Loss"
   ]
  },
  {
   "cell_type": "code",
   "execution_count": 3,
   "id": "1b309e40",
   "metadata": {},
   "outputs": [],
   "source": [
    "def compute_loss(x, y, w, b):\n",
    "    z = w*x + b\n",
    "    f_wb = 1/(1 + np.exp(-z))\n",
    "    loss = y*np.log(f_wb) + (1-y)*np.log(1-f_wb)\n",
    "    \n",
    "    return loss"
   ]
  },
  {
   "cell_type": "markdown",
   "id": "80cce905",
   "metadata": {},
   "source": [
    "## Function to Calculate Cost"
   ]
  },
  {
   "cell_type": "code",
   "execution_count": 4,
   "id": "6778d472",
   "metadata": {},
   "outputs": [],
   "source": [
    "def compute_cost(x, y, w, b):\n",
    "    i = 0\n",
    "    m = len(x)\n",
    "    cost = 0\n",
    "    \n",
    "    for i in range(m):\n",
    "        loss = compute_loss(x[i], y[i], w, b)\n",
    "        cost += loss\n",
    "        \n",
    "    total_cost = cost * (-1/m) \n",
    "    \n",
    "    return total_cost"
   ]
  },
  {
   "cell_type": "markdown",
   "id": "4b795715",
   "metadata": {},
   "source": [
    "## Computing Cost with a assumed w & b value and with imported Dataset"
   ]
  },
  {
   "cell_type": "code",
   "execution_count": 5,
   "id": "1acaf14d",
   "metadata": {},
   "outputs": [
    {
     "name": "stdout",
     "output_type": "stream",
     "text": [
      "0.6931471805599452\n"
     ]
    }
   ],
   "source": [
    "w = 0\n",
    "b = 0\n",
    "cost = compute_cost(x_train, y_train, w, b)\n",
    "print(cost)"
   ]
  },
  {
   "cell_type": "code",
   "execution_count": null,
   "id": "fe7f0e25",
   "metadata": {},
   "outputs": [],
   "source": []
  }
 ],
 "metadata": {
  "kernelspec": {
   "display_name": "Python 3 (ipykernel)",
   "language": "python",
   "name": "python3"
  },
  "language_info": {
   "codemirror_mode": {
    "name": "ipython",
    "version": 3
   },
   "file_extension": ".py",
   "mimetype": "text/x-python",
   "name": "python",
   "nbconvert_exporter": "python",
   "pygments_lexer": "ipython3",
   "version": "3.10.9"
  }
 },
 "nbformat": 4,
 "nbformat_minor": 5
}
